{
 "cells": [
  {
   "cell_type": "markdown",
   "id": "186039a5",
   "metadata": {},
   "source": [
    "# Michelangelo's\n",
    "\n",
    "Su amigo Chocolove McDonell le comenta que inauguró un nuevo restaurante llamado _Michelangelo's_, el cual se especializa en comida italiana. Como dueño del negocio, Chocolove quiere evaluar la rentabilidad de su negocio, pero no es muy bueno sacando cuentas, razón por la que acude a usted por ayuda. \n",
    "\n",
    "El menú del restaurante es el siguiente:\n",
    "> - Carpaccio... `$ 31.500`\n",
    "> - Polenta... `$ 31.500`\n",
    "> - Panna Cotta... `$ 32.000` \n",
    "> - Macchiato... `$ 12.500` \n",
    "> - Latte... `$ 18.000`\n",
    "> - Cappuccino... `$ 19.500` \n",
    "> - Espresso... `$ 21.500` \n",
    "> - Lasagna... `$ 29.000` \n",
    "> - Risotto... `$ 35.500` \n",
    "> - Gnocchi... `$ 56.500` \n",
    "> - Ravioli... `$ 63.500` \n",
    "\n",
    "Chocolove lleva anotaciones de las ventas realizadas durante la primera semana en un pequeño cuaderno, indicando la fecha y los platos servidos. Le ha compartido la siguientes imágenes:\n",
    "\n",
    "<img src=\"ventas_p1.jpg\" style=\"max-height:400px\">\n",
    "<img src=\"ventas_p2.jpg\" style=\"max-height:400px\">\n",
    "\n",
    "**Tip**: Descarga las imágenes de la carpeta del repositorio para observar el texto con mayor facilidad."
   ]
  },
  {
   "cell_type": "markdown",
   "id": "f1bf1910",
   "metadata": {},
   "source": [
    "## Taller 1: Listas y Ciclos"
   ]
  },
  {
   "cell_type": "markdown",
   "id": "29ad8ea4",
   "metadata": {},
   "source": [
    "### Menú"
   ]
  },
  {
   "cell_type": "markdown",
   "id": "2797b589",
   "metadata": {},
   "source": [
    "Crea una lista llamada `menu` que contenga los elementos del menú de Michelangelo's."
   ]
  },
  {
   "cell_type": "code",
   "execution_count": null,
   "id": "3cb128e4",
   "metadata": {},
   "outputs": [],
   "source": [
    "menu = ['Carpaccio', 'Polenta', 'Panna Cotta', 'Macchiato', 'Latte', 'Cappuccino', 'Espresso', 'Lasagna', 'Risotto', \n",
    "        'Gnocchi', 'Ravioli']"
   ]
  },
  {
   "cell_type": "markdown",
   "id": "9c242dcf",
   "metadata": {},
   "source": [
    "Crea una lista llamada `prices` que contenga los precios de los elementos del menú de Michelangelo's. El orden de los precios debe corresponder con el orden de los platos en la lista `menu`."
   ]
  },
  {
   "cell_type": "code",
   "execution_count": null,
   "id": "2c648e26",
   "metadata": {},
   "outputs": [],
   "source": [
    "prices = [31500, 31500, 32000, 12500, 18000, 19500, 21500, 29000, 35500, 56500, 63500] "
   ]
  },
  {
   "cell_type": "markdown",
   "id": "db730bc8",
   "metadata": {},
   "source": [
    "Crea una variable llamada `avg_prc` que almacene el valor del precio promedio de los productos vendidos en Michelangelo's.\n",
    "\n",
    "**Tip**: utiliza la lista `prices` y ciclos para calcular este valor. "
   ]
  },
  {
   "cell_type": "code",
   "execution_count": null,
   "id": "8d1e899a",
   "metadata": {},
   "outputs": [],
   "source": [
    "avg_prc = 0\n",
    "for price in prices:\n",
    "    avg_prc += price\n",
    "avg_prc /= len(prices)\n",
    "print(f'Precio Promedio: ${avg_prc:.2f}')"
   ]
  },
  {
   "cell_type": "markdown",
   "id": "08393c0c",
   "metadata": {},
   "source": [
    "### Ventas"
   ]
  },
  {
   "cell_type": "markdown",
   "id": "97c049c0",
   "metadata": {},
   "source": [
    "Crea una lista para cada día de la semana que contenga los productos vendidos por Michelangelo's. Nombra las variables de la siguiente forma:\n",
    "- `monday`: lista con las ventas del lunes, 16 de enero de 2023\n",
    "- `tuesday`: lista con las ventas del martes, 17 de enero de 2023\n",
    "- `wednesday`: lista con las ventas del miércoles, 18 de enero de 2023\n",
    "- `thursday`: lista con las ventas del jueves, 19 de enero de 2023\n",
    "- `friday`: lista con las ventas del viernes, 20 de enero de 2023\n",
    "- `saturday`: lista con las ventas del sábado, 21 de enero de 2023\n",
    "- `sunday`: lista con las ventas del domingo, 22 de enero de 2023"
   ]
  },
  {
   "cell_type": "code",
   "execution_count": null,
   "id": "f2b38aa6",
   "metadata": {},
   "outputs": [],
   "source": [
    "monday_i = [7, 1, 9, 1, 10, 9, 5, 8]\n",
    "monday = []\n",
    "for index in monday_i:\n",
    "    monday.append(menu[index])\n",
    "print(f'Lunes: {monday}\\n')\n",
    "\n",
    "tuesday_i = [8, 10, 8, 7, 0, 6, 2, 9, 9]\n",
    "tuesday = []\n",
    "for index in tuesday_i:\n",
    "    tuesday.append(menu[index])\n",
    "print(f'Martes: {tuesday}\\n')\n",
    "\n",
    "wednesday_i = [5, 7, 5, 0, 10, 1, 1, 0, 6, 7, 8, 0]\n",
    "wednesday = []\n",
    "for index in wednesday_i:\n",
    "    wednesday.append(menu[index])\n",
    "print(f'Miércoles: {wednesday}\\n')\n",
    "\n",
    "thursday_i = [4, 8, 8, 0, 9, 1, 6, 4, 10]\n",
    "thursday = []\n",
    "for index in thursday_i:\n",
    "    thursday.append(menu[index])\n",
    "print(f'Jueves: {thursday}\\n')\n",
    "\n",
    "friday_i = [6, 9, 9, 5, 9, 2]\n",
    "friday = []\n",
    "for index in friday_i:\n",
    "    friday.append(menu[index])\n",
    "print(f'Viernes: {friday}\\n')\n",
    "\n",
    "saturday_i = [8, 0, 3, 5, 8, 1, 2, 10, 3, 2, 4, 4, 9]\n",
    "saturday = []\n",
    "for index in saturday_i:\n",
    "    saturday.append(menu[index])\n",
    "print(f'Sábado: {saturday}\\n')\n",
    "\n",
    "sunday_i = [1, 1, 6, 10, 8, 3]\n",
    "sunday = []\n",
    "for index in sunday_i:\n",
    "    sunday.append(menu[index])\n",
    "print(f'Domingo: {sunday}\\n')"
   ]
  },
  {
   "cell_type": "markdown",
   "id": "0727bc22",
   "metadata": {},
   "source": [
    "Calcula el valor total de las ventas para cada día de la semana. Almacena el valor de las ventas en las siguientes variables:\n",
    "- `total_monday`: variable con el valor total de las ventas del día lunes\n",
    "- `total_tuesday`: variable con el valor total de las ventas del día martes\n",
    "- `total_wednesday`: variable con el valor total de las ventas del día miércoles\n",
    "- `total_thursday`: variable con el valor total de las ventas del día jueves\n",
    "- `total_friday`: variable con el valor total de las ventas del día viernes\n",
    "- `total_saturday`: variable con el valor total de las ventas del día sábado\n",
    "- `total_sunday`: variable con el valor total de las ventas del día domingo\n",
    "\n",
    "**Tip**: utiliza ciclos y las listas de los días de la semana. También puedes usar el método `.index()` para obtener el índice de un elemento en una lista."
   ]
  },
  {
   "cell_type": "code",
   "execution_count": null,
   "id": "0d6e0781",
   "metadata": {},
   "outputs": [],
   "source": [
    "days = [monday, tuesday, wednesday, thursday, friday, saturday, sunday]\n",
    "days_labels = [\"monday\", \"tuesday\", \"wednesday\", \"thursday\", \"friday\", \"saturday\", \"sunday\"]\n",
    "days_total = []\n",
    "day_i = 0\n",
    "for day in days:\n",
    "    total_day = 0\n",
    "    for dish in day:\n",
    "        total_day +=  prices[menu.index(dish)]\n",
    "    days_total.append(total_day)\n",
    "    print(f'Total {days_labels[day_i]}: ${total_day}')    \n",
    "    day_i += 1"
   ]
  },
  {
   "cell_type": "markdown",
   "id": "3cc13c70",
   "metadata": {},
   "source": [
    "¿Cuál es valor total de las ventas de Michelangelo's durante su primera semana?"
   ]
  },
  {
   "cell_type": "code",
   "execution_count": null,
   "id": "c8d1500f",
   "metadata": {},
   "outputs": [],
   "source": [
    "print(f'Total: ${sum(days_total)}')"
   ]
  },
  {
   "cell_type": "markdown",
   "id": "7a5f7221",
   "metadata": {},
   "source": [
    "## Análisis de Problema 1: Funciones y Diccionarios"
   ]
  },
  {
   "cell_type": "markdown",
   "id": "022db89e",
   "metadata": {},
   "source": [
    "Inicialmente realizamos una copia de los platos contenidos en el menú en una nueva variable:"
   ]
  },
  {
   "cell_type": "code",
   "execution_count": null,
   "id": "91ff5129",
   "metadata": {},
   "outputs": [],
   "source": [
    "dishes = menu.copy()\n",
    "print(dishes)"
   ]
  },
  {
   "cell_type": "markdown",
   "id": "f8587f1a",
   "metadata": {},
   "source": [
    "Creamos un diccionario llamando `menu` que contiene los platos y sus respectivos precios:"
   ]
  },
  {
   "cell_type": "code",
   "execution_count": null,
   "id": "52edfb49",
   "metadata": {},
   "outputs": [],
   "source": [
    "menu = {key:value for key, value in zip(dishes, prices)}\n",
    "\n",
    "for dish, price in menu.items():\n",
    "    print(f\"{dish}... ${price}\")"
   ]
  },
  {
   "cell_type": "markdown",
   "id": "7bb1003e",
   "metadata": {},
   "source": [
    "Creamos un diccionario de ventas en el que asociamos las fechas con los platos vendidos en esa fecha:"
   ]
  },
  {
   "cell_type": "code",
   "execution_count": null,
   "id": "88728d3c",
   "metadata": {},
   "outputs": [],
   "source": [
    "dates = [\"2023/01/16\", \"2023/01/17\", \"2023/01/18\",\n",
    "         \"2023/01/19\", \"2023/01/20\", \"2023/01/21\", \"2023/01/22\"]\n",
    "sales = {key:value for key, value in zip(dates, days)}\n",
    "\n",
    "for date, dishes_in_date in sales.items():\n",
    "    print(f\"{date}: {dishes_in_date}\")"
   ]
  },
  {
   "cell_type": "markdown",
   "id": "bcf32868",
   "metadata": {},
   "source": [
    "### Agregar Ventas"
   ]
  },
  {
   "cell_type": "markdown",
   "id": "f85a7b79",
   "metadata": {},
   "source": [
    "Esta función se encarga de agregar ventas dependiendo de la fecha en la que esta se realizó. Los datos son almacenados en el diccionario `sales`. \n",
    "\n",
    "La función requiere también ingresar una fecha y un plato. \n",
    "Lo primero que hacemos es verificar que el plato existe en nuestro menú, utilizando la copia de los platos originales, `dishes`. \n",
    "\n",
    "Si el plato existe, verificamos la fecha ingresada. Si la fecha no existe, creamos una nueva lista con nuestro plato como único elemento de lista para la nueva fecha. Si la fecha existe, agregamos el plato a la lista existente. "
   ]
  },
  {
   "cell_type": "code",
   "execution_count": null,
   "id": "f2a1b22c",
   "metadata": {},
   "outputs": [],
   "source": [
    "def add_sale(sales, date, dish):\n",
    "    if dish not in dishes:\n",
    "        print(\"Dish is not in menu.\")\n",
    "    else:\n",
    "        if date not in sales:\n",
    "            sales[date] = [dish]\n",
    "        else:\n",
    "            sales[date].append(dish)\n",
    "        print(f\"Dish \\\"{dish}\\\" added sucessfully.\")"
   ]
  },
  {
   "cell_type": "markdown",
   "id": "8219237d",
   "metadata": {},
   "source": [
    "#### Verificación `add_sale`"
   ]
  },
  {
   "cell_type": "code",
   "execution_count": null,
   "id": "9fb1a96d",
   "metadata": {},
   "outputs": [],
   "source": [
    "date = \"2023/01/22\"\n",
    "dish = \"Lasagna\"\n",
    "print(f\"Ventas del {date}: {sales[date]}\")\n",
    "print(\"-\"*10)\n",
    "add_sale(sales, date, dish)\n",
    "print(\"-\"*10)\n",
    "print(f\"Ventas del {date} (después de agregar): {sales[date]}\")"
   ]
  },
  {
   "cell_type": "markdown",
   "id": "9b571d21",
   "metadata": {},
   "source": [
    "### Calcular total ventas por fecha"
   ]
  },
  {
   "cell_type": "markdown",
   "id": "5db596f8",
   "metadata": {},
   "source": [
    "En esta función debemos verificar la existencia de la fecha. Si no existe, podríamos arrojar un valor indicando que no se ha vendio nada. Si la fecha existe, podemos iterar a través de los elementos de la lista correspondiente a la fecha en nuestro diccionario `sales`, y luego sumar sus precios usando el diccionario `menu`."
   ]
  },
  {
   "cell_type": "code",
   "execution_count": null,
   "id": "362fa87e",
   "metadata": {},
   "outputs": [],
   "source": [
    "def calculate_total_date(sales, date):\n",
    "    total = 0\n",
    "    if date not in sales:\n",
    "        print(\"Date does not exist.\")\n",
    "    else:\n",
    "        sales_date = sales[date]\n",
    "        for sale in sales_date:\n",
    "            total += menu[sale]\n",
    "    return total"
   ]
  },
  {
   "cell_type": "markdown",
   "id": "ddcf367e",
   "metadata": {},
   "source": [
    "#### Verificación `calculate_total_date`"
   ]
  },
  {
   "cell_type": "code",
   "execution_count": null,
   "id": "bee3fab8",
   "metadata": {},
   "outputs": [],
   "source": [
    "date = \"2023/01/16\"\n",
    "print(f\"Total ventas en fecha {date}: ${calculate_total_date(sales, date)}\")"
   ]
  },
  {
   "cell_type": "markdown",
   "id": "66c09174",
   "metadata": {},
   "source": [
    "### Calcular ventas totales"
   ]
  },
  {
   "cell_type": "markdown",
   "id": "d4085cca",
   "metadata": {},
   "source": [
    "Utilizando la función `calculate_total_date`, podemos agregar las ventas por fecha y totalizar."
   ]
  },
  {
   "cell_type": "code",
   "execution_count": null,
   "id": "b0b9c33a",
   "metadata": {},
   "outputs": [],
   "source": [
    "def calculate_total_sales(sales):\n",
    "    total = 0\n",
    "    for day in sales:\n",
    "        total += calculate_total_date(sales, day)\n",
    "    return total"
   ]
  },
  {
   "cell_type": "markdown",
   "id": "94a2757d",
   "metadata": {},
   "source": [
    "#### Verificación `calculate_total_sales`"
   ]
  },
  {
   "cell_type": "code",
   "execution_count": null,
   "id": "d06a3c06",
   "metadata": {},
   "outputs": [],
   "source": [
    "print(f\"Total ventas: ${calculate_total_sales(sales)}\")"
   ]
  },
  {
   "cell_type": "markdown",
   "id": "c0229a0c",
   "metadata": {},
   "source": [
    "## Taller 2: Clases y Objetos"
   ]
  },
  {
   "cell_type": "markdown",
   "id": "2862208a",
   "metadata": {},
   "source": [
    "Después de un análisis de ventas, así como recomendaciones de clientes y amigos, Chocolove ha decidido reducir el menú del restaurante y modificar los precios de los platos, añadiendo una descripción y categoría para que las personas se familiaricen con sus productos. A continuación, se presenta el nuevo menú de Michelangelo's:\n",
    "\n",
    "****\n",
    "\n",
    "- Platos Fuertes:\n",
    "    - Lasagna \n",
    "        - Precio: `$ 29.500`\n",
    "        - Descripción: Plato tradicional de la cocina italiana que se prepara con láminas de pasta superpuestas, rellenas de alguna salsa que usualmente contiene carne y queso.\n",
    "    - Risotto \n",
    "        - Precio:  `$ 35.500`\n",
    "        - Descripción: Plato cuyo ingrediente principal es el arroz, que se cocina mezclándolo con queso, generalmente parmesano, caldo y otros ingredientes; es un plato típico del norte de Italia.\n",
    "- Bebidas Calientes:\n",
    "    - Macchiato \n",
    "        - Precio: `$ 15.500`\n",
    "        - Descripción: Tipo de café hecho con espresso con un chorrito de leche espumosa al vapor.\n",
    "    - Latte \n",
    "        - Precio: `$ 16.500`\n",
    "        - Descripción: Tipo de café hecho con espresso y leche caliente al vapor, con más leche que un Cappuccino.\n",
    "    - Cappuccino \n",
    "        - Precio: `$ 17.500`\n",
    "        - Descripción: Tipo de café hecho con espresso y leche que ha sido espumada con vapor a presión.\n",
    "- Postres:\n",
    "    - Panna Cotta \n",
    "        - Precio: `$ 25.500`\n",
    "        - Descripción: Postre típico de la región italiana del Piamonte, elaborado a partir de crema de leche o nata, azúcar y gelificantes, que se suele adornar con mermeladas de frutas rojas. Recuerda al flan, pero su sabor es más lácteo con una textura más suave que el flan.\n",
    "    - Espresso \n",
    "        - Precio: `$ 18.500`\n",
    "        - Descripción: Tipo de café negro fuerte hecho forzando vapor a través de granos de café molidos.\n",
    "\n",
    "****        \n",
    "\n",
    "Chocolove también le ha manifestado su interés en expandir su negocio en caso de que este modelo funcione, por lo cual le consulta si existe una manera de analizar varios restaurantes, cada uno con su propio menú y ventas independientes. Teniendo en cuenta lo anterior, a continuación se propone el diseño de clases y objetos para gestionar los platos y restaurantes de Chocolove."
   ]
  },
  {
   "cell_type": "markdown",
   "id": "f092b1c3",
   "metadata": {},
   "source": [
    "### Dishes\n",
    "\n",
    "Crea una clase llamada `Dish` que tenga las siguientes características:\n",
    "- Variables de instancia:\n",
    "    - `name`: nombre del plato.\n",
    "    - `price`: precio de venta del plato.\n",
    "    - `category`: categoría a la que pertenece el plato (`Platos Fuertes`, `Bebidas Calientes` o `Postres`)\n",
    "    - `description`: descripción del plato creado.\n",
    "- Métodos:\n",
    "    - Constructor: al crear el plato, se solicita el nombre del plato (`name`), precio (`price`),  categoría (`category`) y descripción (`description`). Crea los atributos como variables de instancia protegidas (`_x`)\n",
    "    - Getters y Setters: para las variables de instancia `_name`, `_price`, `_category` y `_description` (`get_name`, `get_price`, `get_category`, `get_description`, `set_name`, `set_price`, `set_category`, `set_description`). Los setters no deben retornar ningún valor. Los setters deben imprimir que el atributo en cuestión fue modificado/actualizado, indicando su valor anterior y su nuevo valor. Ejemplo: `Lasagna price updated from previuous_value to new_value`.\n",
    "    - Representación: al imprimir el plato, se muestra el nombre, descripción y precio de venta del plato en líneas de texto diferentes y consecutivas. Nota: Utiliza los getters."
   ]
  },
  {
   "cell_type": "code",
   "execution_count": null,
   "id": "978dc797",
   "metadata": {},
   "outputs": [],
   "source": [
    "class Dish():\n",
    "    def __init__(self, name, price, category, description):\n",
    "        self._name = name\n",
    "        self._price = price\n",
    "        self._category = category\n",
    "        self._description = description\n",
    "        \n",
    "    def get_name(self):\n",
    "        return self._name\n",
    "    \n",
    "    def get_category(self):\n",
    "        return self._category\n",
    "    \n",
    "    def get_description(self):\n",
    "        return self._description\n",
    "    \n",
    "    def get_price(self):\n",
    "        return self._price\n",
    "    \n",
    "    def set_name(self, new_name):\n",
    "        self._name = new_name\n",
    "    \n",
    "    def set_price(self, new_price):\n",
    "        previous_price = self._price\n",
    "        self._price = new_price\n",
    "        print(f\"{self.get_name()} price updated from ${previous_price} to ${new_price}\")\n",
    "        \n",
    "    def set_category(self, new_category):\n",
    "        previous_category = self._category\n",
    "        self._category = new_category\n",
    "        print(f\"{self.get_name()} category updated from \\\"{previous_category}\\\" to \\\"{new_category}\\\"!\")\n",
    "    \n",
    "    def set_description(self, new_description):\n",
    "        previous_description = self._description\n",
    "        self._description = new_description\n",
    "        print(f\"{self.get_name()} description updated from \\\"{previous_description}\\\" to \\\"{new_description}\\\"!\")\n",
    "    \n",
    "    def __repr__(self):\n",
    "        dish_repr = f\"\\t{self.get_name()} \\n\\t- {self.get_description()} \\n\\t- ${self.get_price()}\"\n",
    "        return dish_repr"
   ]
  },
  {
   "cell_type": "markdown",
   "id": "ee40d62e",
   "metadata": {},
   "source": [
    "### Creación de Platos\n",
    "Crea las siguientes variables de clase Dish para representar los platos del nuevo menú de Michelangelo's: \n",
    "- `lasagna`\n",
    "- `risotto`\n",
    "- `macchiato`\n",
    "- `latte`\n",
    "- `cappuccino`\n",
    "- `espresso`\n",
    "- `panna_cotta`\n",
    "\n",
    "**Nota:** Utiliza _exactamente_ la información suministrada por Chocolove:"
   ]
  },
  {
   "cell_type": "code",
   "execution_count": null,
   "id": "3c61b888",
   "metadata": {},
   "outputs": [],
   "source": [
    "lasagna = Dish(\"Lasagna\", 29500, \"Platos Fuertes\", \"Plato tradicional de la cocina italiana que se prepara con láminas de pasta superpuestas, rellenas de alguna salsa que usualmente contiene carne y queso.\")\n",
    "risotto = Dish(\"Risotto\", 35500, \"Platos Fuertes\", \"Plato cuyo ingrediente principal es el arroz, que se cocina mezclándolo con queso, generalmente parmesano, caldo y otros ingredientes; es un plato típico del norte de Italia.\")\n",
    "macchiato = Dish(\"Macchiato\", 15500, \"Bebidas Calientes\", \"Tipo de café hecho con espresso con un chorrito de leche espumosa al vapor.\")\n",
    "latte = Dish(\"Latte\", 16500, \"Bebidas Calientes\", \"Tipo de café hecho con espresso y leche caliente al vapor, con más leche que un Cappuccino.\")\n",
    "cappuccino = Dish(\"Cappuccino\", 17500, \"Bebidas Calientes\", \"Tipo de café hecho con espresso y leche que ha sido espumada con vapor a presión.\")\n",
    "espresso = Dish(\"Espresso\", 18500, \"Postres\", \"Tipo de café negro fuerte hecho forzando vapor a través de granos de café molidos.\")\n",
    "panna_cotta = Dish(\"Panna Cotta\", 25500, \"Postres\", \"Postre típico de la región italiana del Piamonte, elaborado a partir de crema de leche o nata, azúcar y gelificantes, que se suele adornar con mermeladas de frutas rojas. Recuerda al flan, pero su sabor es más lácteo con una textura más suave que el flan.\")"
   ]
  },
  {
   "cell_type": "markdown",
   "id": "67e8553a",
   "metadata": {},
   "source": [
    "### Modificación de Datos\n",
    "Durante su desarrollo, Chocolove lo llama para actualizar ciertos datos del menú que le suministró. \n",
    "Modifique los platos creados teniendo en cuenta la siguiente información:\n",
    "- El nuevo precio de la Lasagna es de `$ 30.500`.\n",
    "- El nuevo precio de la Panna Cotta es de `$ 28.000`.\n",
    "- La descripción del Macchiato debe añadir el texto `Nuestra versión incluye una leve fragancia a vainilla.` al final de la descripción original. \n",
    "- La categoría del Espresso es `Bebidas Calientes`."
   ]
  },
  {
   "cell_type": "code",
   "execution_count": null,
   "id": "30244e7f",
   "metadata": {},
   "outputs": [],
   "source": [
    "lasagna.set_price(30500)\n",
    "panna_cotta.set_price(28000)\n",
    "macchiato.set_description(\"Tipo de café hecho con espresso con un chorrito de leche espumosa al vapor. Nuestra versión incluye una leve fragancia a vainilla.\")\n",
    "espresso.set_category(\"Bebidas Calientes\")"
   ]
  },
  {
   "cell_type": "markdown",
   "id": "a3302c4f",
   "metadata": {},
   "source": [
    "## Restaurante\n",
    "Se suministra un código parcial de una nueva clase llamada `Restaurant`. Complete el código teniendo en cuenta lo siguiente:\n",
    "- Al crear un nuevo restaurante, el usuario debe indicar un nombre (`name`), dueño (`owner`), dirección (`address`) y teléfono (`phone`) del restaurante. \n",
    "- Las variables de clase del restaurante deben ser protegidas (`_x`) y, además de los datos ingresados por el usuario debe incluir: un id autogenerado (`_id`), un diccionario para el menú (`_menu`), un diccionario para las ventas (`_sales`) y una lista para las categorías (`_categories`). **Nota:** No olvide incrementar la variable de clase cada vez que crea un nuevo restaurante.\n",
    "- Completa el método `calculate_sales` que calcula el valor total de las ventas registradas en el diccionario `_sales` de la clase restaurante."
   ]
  },
  {
   "cell_type": "code",
   "execution_count": null,
   "id": "c9189c19",
   "metadata": {},
   "outputs": [],
   "source": [
    "class Restaurant():\n",
    "    restaurant_new_id = 1\n",
    "    \n",
    "    def __init__(self, name, owner, address, phone):\n",
    "        self._id = self.restaurant_new_id\n",
    "        self._name = name\n",
    "        self._owner = owner\n",
    "        self._address = address\n",
    "        self._phone = phone\n",
    "        self._menu = {}\n",
    "        self._sales = {}\n",
    "        self._categories = []\n",
    "        Restaurant.restaurant_new_id += 1\n",
    "        \n",
    "    def add_to_menu(self, dish):\n",
    "        dish_name = dish.get_name()\n",
    "        if dish_name not in self._menu:\n",
    "            self._menu[dish_name] = dish\n",
    "            print(f\"Dish \\\"{dish_name}\\\" added to menu!\")\n",
    "        else:\n",
    "            print(f\"Dish \\\"{dish_name}\\\" already in the menu!\")\n",
    "            \n",
    "    def add_to_sales(self, date, dish):\n",
    "        if date not in self._sales:\n",
    "            self._sales[date] = [dish]\n",
    "        else:\n",
    "            self._sales[date].append(dish)\n",
    "            \n",
    "    def define_categories(self):\n",
    "        for dish in self._menu.keys():\n",
    "            category = self._menu[dish].get_category()\n",
    "            if category not in self._categories:\n",
    "                self._categories.append(category)\n",
    "\n",
    "    def show_menu(self):\n",
    "        self.define_categories()\n",
    "        print(f\"\\n{'-'*30} \\n{self._name} Menú: \")\n",
    "        for category in self._categories:\n",
    "            print(f\"> {category}\")\n",
    "            for dish in self._menu.keys():\n",
    "                if self._menu[dish].get_category() == category:\n",
    "                    print(self._menu[dish])            \n",
    "        print('-'*30)\n",
    "    \n",
    "    def show_sales(self):\n",
    "        print(f\"Sales of Restaruant: {self._name}\")\n",
    "        for date in self._sales.keys():\n",
    "            sales_date = 0\n",
    "            print(f\"{'-'*30} \\nDate: {date}\")\n",
    "            for dish in self._sales[date]:\n",
    "                print(f\"- {dish.get_name()}... ${dish.get_price()}\")\n",
    "                sales_date += dish.get_price()\n",
    "            print(f\"Total day: ${sales_date}\")\n",
    "    \n",
    "    def calculate_sales(self):\n",
    "        total = 0\n",
    "        for sale in self._sales.keys():\n",
    "            for dish in self._sales[sale]:\n",
    "                total += dish.get_price()\n",
    "        print(f\"{'-'*30} \\nTotal sales: \\n${total} \\n{'-'*30}\")\n",
    "    \n",
    "    def __repr__(self):\n",
    "        restaurant_info = f\"\"\"\n",
    "{self._name}\n",
    "{self._address}\n",
    "{self._phone}\n",
    "{self._owner}\n",
    "        \"\"\"\n",
    "        return restaurant_info\n",
    "    "
   ]
  },
  {
   "cell_type": "markdown",
   "id": "a3a9fca0",
   "metadata": {},
   "source": [
    "### Pruebas\n",
    "\n",
    "Ejecute la siguiente celda de código una vez finalizada las actividades previamente descritas para verificar que todo funciona correctamente. "
   ]
  },
  {
   "cell_type": "code",
   "execution_count": null,
   "id": "d30fced8",
   "metadata": {},
   "outputs": [],
   "source": [
    "michelangelos = Restaurant(\"Michelangelo's\", \"Chocolove McDonell\", \"221B Baker Street\", \"634-5789\")\n",
    "print(f\"\\n{'-'*30} \\nRestaurant's Info: \\n{michelangelos} \\n{'-'*30}\\n\")\n",
    "michelangelos.add_to_menu(lasagna)\n",
    "michelangelos.add_to_menu(risotto)\n",
    "michelangelos.add_to_menu(macchiato)\n",
    "michelangelos.add_to_menu(latte)\n",
    "michelangelos.add_to_menu(cappuccino)\n",
    "michelangelos.add_to_menu(espresso)\n",
    "michelangelos.add_to_menu(panna_cotta)\n",
    "michelangelos.show_menu()\n",
    "michelangelos.add_to_sales(\"2023/02/15\", latte)\n",
    "michelangelos.add_to_sales(\"2023/02/15\", lasagna)\n",
    "michelangelos.add_to_sales(\"2023/02/15\", macchiato)\n",
    "michelangelos.add_to_sales(\"2023/02/15\", macchiato)\n",
    "michelangelos.add_to_sales(\"2023/02/15\", espresso)\n",
    "michelangelos.add_to_sales(\"2023/02/15\", panna_cotta)\n",
    "michelangelos.add_to_sales(\"2023/02/15\", risotto)\n",
    "michelangelos.add_to_sales(\"2023/02/15\", risotto)\n",
    "michelangelos.add_to_sales(\"2023/02/15\", lasagna)\n",
    "michelangelos.add_to_sales(\"2023/02/15\", lasagna)\n",
    "michelangelos.add_to_sales(\"2023/02/15\", lasagna)\n",
    "michelangelos.add_to_sales(\"2023/02/15\", espresso)\n",
    "michelangelos.add_to_sales(\"2023/02/15\", cappuccino)\n",
    "michelangelos.add_to_sales(\"2023/02/16\", cappuccino)\n",
    "michelangelos.add_to_sales(\"2023/02/16\", latte)\n",
    "michelangelos.add_to_sales(\"2023/02/16\", espresso)\n",
    "michelangelos.add_to_sales(\"2023/02/16\", latte)\n",
    "michelangelos.add_to_sales(\"2023/02/16\", risotto)\n",
    "michelangelos.add_to_sales(\"2023/02/16\", risotto)\n",
    "michelangelos.add_to_sales(\"2023/02/16\", lasagna)\n",
    "michelangelos.add_to_sales(\"2023/02/16\", risotto)\n",
    "michelangelos.add_to_sales(\"2023/02/16\", lasagna)\n",
    "michelangelos.add_to_sales(\"2023/02/16\", panna_cotta)\n",
    "michelangelos.add_to_sales(\"2023/02/16\", cappuccino)\n",
    "michelangelos.add_to_sales(\"2023/02/16\", panna_cotta)\n",
    "michelangelos.show_sales()\n",
    "michelangelos.calculate_sales()"
   ]
  },
  {
   "cell_type": "markdown",
   "id": "4a29b824",
   "metadata": {},
   "source": [
    "## Análisis de Problema: Archivos y Librerías"
   ]
  },
  {
   "cell_type": "markdown",
   "id": "0e1ba7b0",
   "metadata": {},
   "source": [
    "Chocolove ha organizado parte de su trabajo en archivos independientes para reducir líneas de código y aprovechar las potencialidades de Python. En la siguiente celda se muestra el uso de las clases `Dish` y `Restaurant` que se encuentran en el archivo `restaurant.py` suministrado. \n",
    "\n",
    "Lo primero que se hace es crear el objeto `michelangelos` de tipo `restaurant` con los datos suministrados por Chocolove. Luego se agregan los platos contenidos en el archivo `dishes.csv` utilizando la función `DictReader` de la librería `csv`, y el método `.add_to_menu()` del restaurante. \n",
    "\n",
    "Revisa los archivos involucrados en esta parte del problema y prosigue con la siguiente parte (Tiempo sugerido: 10 minutos).\n",
    "\n",
    "**Nota:** ejecuta la celda antes de proseguir con la siguiente parte del ejercicio."
   ]
  },
  {
   "cell_type": "code",
   "execution_count": null,
   "id": "220a4f3f",
   "metadata": {
    "scrolled": true
   },
   "outputs": [],
   "source": [
    "from restaurant import Dish, Restaurant\n",
    "import csv\n",
    "\n",
    "michelangelos = Restaurant(\"Michelangelo's\", \"Chocolove McDonell\", \"221B Baker Street\", \"634-5789\")\n",
    "with open('dishes.csv') as dishes_data:\n",
    "    dishes_reader = csv.DictReader(dishes_data, delimiter=\";\")\n",
    "    for row in dishes_reader:\n",
    "        michelangelos.add_to_menu((Dish(row[\"name\"], int(row[\"price\"]), row[\"category\"], row[\"description\"])))"
   ]
  },
  {
   "cell_type": "markdown",
   "id": "285795a0",
   "metadata": {},
   "source": [
    "### Agregar Ventas\n",
    "\n",
    "Chocolove le ha suministrado el archivo `michelangelos_sales.csv` que contiene las ventas del último mes. Explore el archivo y agregue las ventas al restaurante utilizando el método `.add_to_sales()`, que recibe como argumentos la fecha (`date`) y el id (`detail`) del producto vendido.\n",
    "\n",
    "**Nota:** Utiliza la función `int()` para indicar el código del producto de la columna `detail` al momento de agregar los datos."
   ]
  },
  {
   "cell_type": "code",
   "execution_count": null,
   "id": "d0d6bcc4",
   "metadata": {},
   "outputs": [],
   "source": [
    "with open('michelangelos_sales.csv', newline='') as sales_data:\n",
    "    sales_reader = csv.DictReader(sales_data, delimiter=\";\")\n",
    "    for row in sales_reader:\n",
    "        michelangelos.add_to_sales(row[\"date\"], int(row[\"detail\"]))"
   ]
  },
  {
   "cell_type": "markdown",
   "id": "5222bbbe",
   "metadata": {},
   "source": [
    "Verifica que las ventas fueron agregadas correctamente utilizando el método `.show_all_sales()` de `michelangelos`."
   ]
  },
  {
   "cell_type": "code",
   "execution_count": null,
   "id": "c6874fcc",
   "metadata": {},
   "outputs": [],
   "source": [
    "michelangelos.show_all_sales()"
   ]
  },
  {
   "cell_type": "markdown",
   "id": "200b9468",
   "metadata": {},
   "source": [
    "### Array de Ventas\n",
    "\n",
    "Una vez registradas las ventas en nuestro objeto `michelangelos`, es momento de organizarlos en un array para su análisis. Crea el array `sales_array` utilizando la lista de los valores del total de las ventas por día.\n",
    "\n",
    "**Tip:** La clase `Restaurant` tiene un método llamado `.get_sales_by_day()` que retorna un diccionario de las fechas (llaves) con el total de ventas de esa fecha (valores). Puedes utilizar el método `.values()` del diccionario para obtener los valores y luego la función `list()` para crear el array. No olvides importar la librería `numpy`. "
   ]
  },
  {
   "cell_type": "code",
   "execution_count": null,
   "id": "a852b767",
   "metadata": {},
   "outputs": [],
   "source": [
    "import numpy as np\n",
    "\n",
    "sales_by_day = michelangelos.get_sales_by_day()\n",
    "print(f\"Sales by day:\\n {sales_by_day}\\n\")\n",
    "\n",
    "sales_values = list(sales_by_day.values())\n",
    "print(f\"Sales values:\\n {sales_values}\\n\")\n",
    "\n",
    "sales_array = np.array(sales_values)\n",
    "print(f\"Sales array:\\n {sales_array}\\n\")"
   ]
  },
  {
   "cell_type": "markdown",
   "id": "6753162f",
   "metadata": {},
   "source": [
    "### Cálculo de las Estadísticas\n",
    "\n",
    "Calcula los siguientes estadísticos sobre el arreglo `sales_array` para agregar al análisis de los datos que se encuentra en la variable `summary`:\n",
    "- Valor Promedio\n",
    "- Valor Mínimo\n",
    "- Valor Máximo\n",
    "- Desviación Estándar\n",
    "- Mediana\n",
    "- Primer Cuartil\n",
    "- Tercer Cuartil\n",
    "- Rango Intercuartil\n",
    "\n",
    "**Nota:** revisa los resultados y agrega comentarios a partir del análisis de los datos reemplazando la línea de código que dice `>>> Agrega aquí tus comentarios a partir del análisis de los datos.`."
   ]
  },
  {
   "cell_type": "code",
   "execution_count": null,
   "id": "afafa716",
   "metadata": {},
   "outputs": [],
   "source": [
    "sales_mean = np.mean(sales_array)\n",
    "sales_min = np.min(sales_array)\n",
    "sales_max = np.max(sales_array)\n",
    "sales_std = np.std(sales_array)\n",
    "sales_median = np.median(sales_array)\n",
    "sales_first_quarter = np.percentile(sales_array, 25)\n",
    "sales_third_quarter = np.percentile(sales_array, 75)\n",
    "sales_iq_range = sales_third_quarter - sales_first_quarter\n",
    "\n",
    "start_date = list(michelangelos.get_all_sales().keys())[0]\n",
    "end_date = list(michelangelos.get_all_sales().keys())[-1]\n",
    "total_sales = michelangelos.get_total_sales()\n",
    "\n",
    "summary = f\"\"\"{michelangelos}\n",
    "\n",
    "Análisis de ventas: {start_date} - {end_date}\n",
    "\n",
    "Valor total de las ventas:\n",
    "$ {total_sales}\n",
    "\n",
    "Venta mínima: $ {sales_min}\n",
    "Venta máxima: $ {sales_max}\n",
    "Valor promedio de ventas: $ {sales_mean}\n",
    "Desviación estándar: $ {sales_std}\n",
    "\n",
    "Primer Cuartil: $ {sales_first_quarter}\n",
    "Mediana: $ {sales_median}\n",
    "Tercer Cuartil: $ {sales_third_quarter}\n",
    "Rango Intercuartil: $ {sales_iq_range}\n",
    "\n",
    ">>> Agrega aquí tus comentarios a partir del análisis de los datos.\n",
    "\n",
    "\"\"\"\n",
    "\n",
    "print(summary)"
   ]
  },
  {
   "cell_type": "markdown",
   "id": "f961cd7b",
   "metadata": {},
   "source": [
    "### Reportando el Análisis\n",
    "\n",
    "Escribe el texto de la variable `summary` en un archivo de texto llamado `data_summary.txt`.\n",
    "\n",
    "**Nota:** agrega el argumento `encoding=\"utf8\"` a la función `open()`."
   ]
  },
  {
   "cell_type": "code",
   "execution_count": null,
   "id": "03394003",
   "metadata": {},
   "outputs": [],
   "source": [
    "with open('data_summary.txt', 'w', encoding='utf8') as writer:\n",
    "    writer.write(summary)"
   ]
  },
  {
   "cell_type": "markdown",
   "id": "80881a2e",
   "metadata": {},
   "source": [
    "## Taller 3: Análisis de Datos con Pandas"
   ]
  },
  {
   "cell_type": "markdown",
   "id": "b6e819bf",
   "metadata": {},
   "source": [
    "Chocolove ha visto el desarrollo del trabajo que ha realizado y considera que ya está listo para utilizar los registros de ventas de los primeros dos meses de operación del restaurante Michelangelo's. Ahora le suministra un nuevo archivo llamado `michelangelos_sales_update.csv` que incluye los datos de ventas desde el 16 de enero de 2023 hasta el 16 de marzo de 2023. \n",
    "\n",
    "> Ejecuta la siguiente celda para cargar el menú del restaurante en la instancia de clase `Restaurant` llamada `michelangelos`.\n",
    "\n",
    "**Nota:** En esta ocasión no cargaremos las ventas realizadas en el objeto debido a la estructura de los nuevos datos suministrados."
   ]
  },
  {
   "cell_type": "code",
   "execution_count": null,
   "id": "813234f5",
   "metadata": {},
   "outputs": [],
   "source": [
    "from restaurant import Dish, Restaurant\n",
    "import csv\n",
    "\n",
    "michelangelos = Restaurant(\"Michelangelo's\", \"Chocolove McDonell\", \"221B Baker Street\", \"634-5789\")\n",
    "with open('dishes.csv') as dishes_data:\n",
    "    dishes_reader = csv.DictReader(dishes_data, delimiter=\";\")\n",
    "    for row in dishes_reader:\n",
    "        michelangelos.add_to_menu((Dish(row[\"name\"], int(row[\"price\"]), row[\"category\"], row[\"description\"])))"
   ]
  },
  {
   "cell_type": "markdown",
   "id": "1d02324c",
   "metadata": {},
   "source": [
    "### Lectura de Datos\n",
    "\n",
    "Es momento de leer los datos suministrados por Chocolove. \n",
    "\n",
    "1. Importa la librería `pandas` y utiliza el alias `pd` para su uso.\n",
    "2. Crea un DataFrame llamado `sales_df` utilizando la función `.read_csv()` de pandas en el que guardes los datos de `michelangelos_sales_update.csv`.  Agrega también el argumento `delimiter` con valor `;`. \n",
    "3. Imprime la información de `sales_df` utilizando el método `.info()`.\n",
    "4. Imprime las primeras 5 y últimas 5 filas de `sales_df`."
   ]
  },
  {
   "cell_type": "code",
   "execution_count": null,
   "id": "b28c0071",
   "metadata": {},
   "outputs": [],
   "source": []
  },
  {
   "cell_type": "markdown",
   "id": "1f8dbc5a",
   "metadata": {},
   "source": [
    "### Tipo de Datos y Cálculos Básicos\n",
    "\n",
    "Gracias al método `.info()` pudimos observar el número de columnas, sus tipos (Dtype) y cantidad de registros. Ahora realizaremos algunos cálculos y modificaremos tipos de datos. \n",
    "\n",
    "1. Modifica el tipo de datos de la columna `date` al tipo `datetime64[ns]`. Esto se puede hacer con la función `to_datetime()` de la librería pandas. Pasa como argumentos de la función la columna de la fecha `sales_df[\"date\"]` y la instrucción `infer_datetime_format=True`. Verifica que se haya modificado el tipo de datos usando el atributo `dtypes`. \n",
    "2. Aplica la función lambda `get_dish_price` a la columna `item_id` para crear la columna `price` en `sales_df` utilizando el método `.apply()`. \n",
    "4. Modifica el tipo de datos de la columna `price` de `sales_df` a `float` utilizando el método `.astype()`.\n",
    "5. Crea una nueva columna llamad `total` en `sales_df` utilizando multiplicando los valores de `quantity` y `price`.\n",
    "6. Imprime la información de `sales_df` usando el método `.info()`.\n",
    "7. Imprime las primeras 5 y últimas 5 filas de `sales_df`.\n",
    "\n",
    "**Nota:** Una función lambda es una forma de definir una función en una sola línea de código para asignarla a una variable. En Pandas, a menudo usamos funciones lambda para realizar operaciones complejas en columnas:\n",
    "```python\n",
    "df = pd.read_csv('employees.csv')\n",
    "get_last_name = lambda full_name: full_name.split()[1]\n",
    "df['last_name'] = df.name.apply(get_last_name)\n",
    "```\n",
    "En el caso de los precios del menú, el método `.get_menu()` de `michelangelos` retorna un diccionario de objetos tipo `Dish`. Las instancias de la clase `Dish` pueden invocar el método `.get_price()` para obtener el precio de un plato específico.\n",
    "```python\n",
    "get_dish_price = lambda dish_id: michelangelos.get_menu()[dish_id].get_price()\n",
    "```"
   ]
  },
  {
   "cell_type": "code",
   "execution_count": null,
   "id": "6b248198",
   "metadata": {},
   "outputs": [],
   "source": [
    "get_dish_price = lambda dish_id: michelangelos.get_menu()[dish_id].get_price()"
   ]
  },
  {
   "cell_type": "markdown",
   "id": "b04beed7",
   "metadata": {},
   "source": [
    "### Agrupar Datos\n",
    "\n",
    "Como podemos observar, nuestro DataFrame `sales_df` tiene muchos registros para fechas de un mismo día. Para nuestro análisis, es más conveniente agrupar estos valores por día sumando los totales obtenidos. \n",
    "\n",
    "1. Crea un nuevo DataFrame llamado `sales_by_day` que agrupe las ventas por fecha (`date`) y sume los totales (`total`). Para esta tarea, utiliza el método `.groupby()`. `.groupby()` utiliza la siguiente sintaxis:\n",
    "```python\n",
    "df.groupby('column1').column2.measurement().reset_index()\n",
    "```\n",
    "Donde:    \n",
    "    - `column1` es la columna que queremos utilizar para agrupar (en nuestro caso, `date`).\n",
    "    - `column2` es la columna a la que queremos realizarle un cálculo (en nuestro caso, `total`).\n",
    "    - `measurement` es el cálculo que queremos aplicar (en nuestro caso, `.sum()`).\n",
    "    - `.reset_index()` reinicia los índices del DataFrame. \n",
    "    \n",
    "2. Renombra la columna `total` de `sales_by_day` a `total_day` utilizando el método `.rename()`. Utiliza los parámetros `columns` que debe ser un diccionario con el nombre anterior como llave y el nuevo nombre como valor, y `inplace=True` para reemplazar en la misma variable.\n",
    "3. Imprime el DataFrame `sales_by_day`."
   ]
  },
  {
   "cell_type": "code",
   "execution_count": null,
   "id": "f988c6e9",
   "metadata": {},
   "outputs": [],
   "source": []
  },
  {
   "cell_type": "markdown",
   "id": "d8f498d4",
   "metadata": {},
   "source": [
    "En la siguiente celda se crean dos nuevas columnas para las ventas por día: `nominal_day` y `nominal_month`. `nominal_day` representa los días transcurridos para cada una de las fechas (que coincide con el índice de cada fila); `nominal_month` representa el mes de operación en el que se encuentra el negocio (que no necesariamente coincide con el mes de la fecha para cada registro).\n",
    "\n",
    "Ejecuta la celda antes de seguir con la siguiente tarea. \n",
    "\n",
    "**Nota:** Se debe haber realizado el trabajo previo antes de ejecutar esta celda."
   ]
  },
  {
   "cell_type": "code",
   "execution_count": null,
   "id": "94142211",
   "metadata": {},
   "outputs": [],
   "source": [
    "from math import trunc\n",
    "\n",
    "sales_by_day['nominal_day'] = sales_by_day.index\n",
    "nominal_month = lambda x: trunc(x  / 30) + 1\n",
    "sales_by_day['nominal_month'] = sales_by_day.nominal_day.apply(nominal_month)\n",
    "print(sales_by_day)"
   ]
  },
  {
   "cell_type": "markdown",
   "id": "8afd1e89",
   "metadata": {},
   "source": [
    "Podemos seguir agrupando datos para analizar el desempeño del restaurante para los meses que ha operado.  \n",
    "\n",
    "1. Crea un nuevo DataFrame llamado `sales_by_month` que agrupe las ventas por mes nominal (`nominal_date`) y sume los totales diarios (`total_day`).     \n",
    "2. Renombra la columna `total_day` de `sales_by_month` a `total_month` utilizando el método `.rename()`.\n",
    "3. Imprime el DataFrame `sales_by_month`."
   ]
  },
  {
   "cell_type": "code",
   "execution_count": null,
   "id": "52bb57dd",
   "metadata": {
    "scrolled": true
   },
   "outputs": [],
   "source": []
  },
  {
   "cell_type": "markdown",
   "id": "9d220c66",
   "metadata": {},
   "source": [
    "También nos interesa conocer la popularidad de los productos vendidos por Chocolove. Ahora agruparemos nuestro DataFrame original `sales_df` por ítem (`item_id`) y contaremos la cantidad de cada producto vendido. \n",
    "\n",
    "1. Crea un nuevo DataFrame llamado `items_sold` que agrupe las ventas por items (`item_id`) y sume las cantidades vendidas  (`quantity`) de cada uno de ellos. \n",
    "2. Renombra los nombres de las columnas del nuevo DataFrame a `item` y `count` utilizando el atributo `columns`. Para usar este atributo debes crear una lista con los nombres y asignarla a esta. \n",
    "3. Aplica la función lambda `get_dish_name` en la columna `item` para colocar los nombres de los productos. \n",
    "4. Imprime el DataFrame `sales_by_day`.\n",
    "\n",
    "**Nota:** Se suministran unas líneas de código para ordenar los datos por la columna `count`. No las modifiques. Se debe haber realizado el trabajo previo antes de ejecutar esta celda."
   ]
  },
  {
   "cell_type": "code",
   "execution_count": null,
   "id": "73fe7520",
   "metadata": {},
   "outputs": [],
   "source": [
    "\n",
    "get_dish_name = lambda x: michelangelos.get_menu()[x].get_name()\n",
    "\n",
    "items_sold.sort_values(by=['count'], inplace=True)\n",
    "items_sold.reset_index(inplace=True, drop=True)"
   ]
  },
  {
   "cell_type": "markdown",
   "id": "74844f3e",
   "metadata": {},
   "source": [
    "### Cálculo de las Estadísticas\n",
    "\n",
    "Calcula e imprime los siguientes estadísticos sobre las ventas diarias que se encuentran en la columna `total_day` del DataFrame `sales_by_day`. :\n",
    "- Valor Promedio\n",
    "- Valor Mínimo\n",
    "- Valor Máximo\n",
    "- Desviación Estándar\n",
    "- Mediana"
   ]
  },
  {
   "cell_type": "code",
   "execution_count": null,
   "id": "8c3b22cf",
   "metadata": {},
   "outputs": [],
   "source": [
    "import numpy as np\n",
    "\n",
    "sales_mean = 0\n",
    "sales_min = 0\n",
    "sales_max = 0\n",
    "sales_std = 0\n",
    "sales_median = 0\n",
    "\n",
    "start_date = list(sales_by_day['date'])[0]\n",
    "end_date = list(sales_by_day['date'])[-1]\n",
    "total_sales = np.sum(sales_by_day['total_day'])\n",
    "\n",
    "summary = f\"\"\"{michelangelos}\n",
    "\n",
    "Análisis de ventas: {start_date} - {end_date}\n",
    "\n",
    "Valor total de las ventas:\n",
    "$ {total_sales}\n",
    "\n",
    "Venta mínima diaria: $ {sales_min}\n",
    "Venta máxima diaria: $ {sales_max}\n",
    "Valor promedio de ventas diarias: $ {sales_mean}\n",
    "Mediana de ventas diarias: $ {sales_median}\n",
    "Desviación estándar: $ {sales_std}\n",
    "\"\"\"\n",
    "\n",
    "print(summary)"
   ]
  },
  {
   "cell_type": "markdown",
   "id": "6abee9ae",
   "metadata": {},
   "source": [
    "### Gráficas\n",
    "\n",
    "1. Crea una gráfica de las ventas por día (`total_day`) en función del día nominal (`nominal_day`) utilizando el DataFrame `sales_by_day`. Agrega color, marcador, estilo de línea, etiqueta de gráfica y títulos a los ejes y gráfica generada.\n",
    "2. Crea in histograma de las ventas por día (`total_day`). Utiliza 10 bins. \n",
    "3. Crea un boxplot de las ventas por día (`total_day`).\n",
    "4. Crea una gráfica de barras horizontal para los ítems vendidos utilizando el DataFrame `items_sold`. "
   ]
  },
  {
   "cell_type": "code",
   "execution_count": null,
   "id": "00899160",
   "metadata": {},
   "outputs": [],
   "source": [
    "from matplotlib import pyplot as plt\n",
    "\n",
    "plt.close('all')\n",
    "plt.figure(figsize=(16,10))\n",
    "\n",
    "sales_plot = plt.subplot(221)\n",
    "sales_hist = plt.subplot(222)\n",
    "sales_boxplot = plt.subplot(223)\n",
    "items_bar = plt.subplot(224)\n",
    "\n",
    "# Gráfica de Ventas en el tiempo\n",
    "\n",
    "sales_plot.set_title('Ventas por Día')\n",
    "sales_plot.set_xlabel('Día')\n",
    "sales_plot.set_ylabel('Valor ($)')\n",
    "\n",
    "# Histograma de Ventas Diarias\n",
    "\n",
    "sales_hist.axvline(sales_mean, color='#FD4E40', linestyle='solid', linewidth=2, label='Mean')\n",
    "sales_hist.axvline(sales_median, color='y', linestyle='dotted', linewidth=3, label='Median')\n",
    "sales_hist.set_title('Histograma de Ventas por Día')\n",
    "sales_hist.set_xlabel('Valor de las ventas por día ($)')\n",
    "sales_hist.set_ylabel('Cantidad')\n",
    "\n",
    "sales_hist.axvline(sales_mean + sales_std, color='#FFB908', linestyle='solid', linewidth=2, label='Standard Deviations')\n",
    "sales_hist.axvline(sales_mean - sales_std, color='#FFB908', linestyle='solid', linewidth=2)\n",
    "sales_hist.axvline(sales_mean + 2 * sales_std, color='#FFB908', linestyle='solid', linewidth=2)\n",
    "sales_hist.axvline(sales_mean - 2 * sales_std, color='#FFB908', linestyle='solid', linewidth=2)\n",
    "sales_hist.axvline(sales_mean + 3 * sales_std, color='#FFB908', linestyle='solid', linewidth=2)\n",
    "sales_hist.axvline(sales_mean - 3 * sales_std, color='#FFB908', linestyle='solid', linewidth=2)\n",
    "\n",
    "sales_hist.legend()\n",
    "\n",
    "# Boxplot de Ventas Diarias\n",
    "\n",
    "\n",
    "sales_boxplot.set_title('Boxplot de Ventas')\n",
    "sales_boxplot.set_xlabel('')\n",
    "sales_boxplot.set_ylabel('Valor de las ventas por día ($)')\n",
    "\n",
    "# Gráfico de Barras de los Productos\n",
    "\n",
    "items_bar.set_title('Ítems Vendidos')\n",
    "items_bar.set_xlabel('Cantidad')\n",
    "items_bar.set_ylabel('Ítems')\n",
    "\n",
    "plt.tight_layout()\n",
    "#plt.show()\n",
    "plt.savefig('Michelangelos_charts.png')"
   ]
  },
  {
   "cell_type": "markdown",
   "id": "ab480480",
   "metadata": {},
   "source": [
    "Guarda la gráfica generada y redacta un análisis a partir de estas. "
   ]
  },
  {
   "cell_type": "code",
   "execution_count": null,
   "id": "723e7924",
   "metadata": {},
   "outputs": [],
   "source": []
  },
  {
   "cell_type": "code",
   "execution_count": null,
   "id": "a2918b9e",
   "metadata": {},
   "outputs": [],
   "source": []
  }
 ],
 "metadata": {
  "kernelspec": {
   "display_name": "Python 3 (ipykernel)",
   "language": "python",
   "name": "python3"
  },
  "language_info": {
   "codemirror_mode": {
    "name": "ipython",
    "version": 3
   },
   "file_extension": ".py",
   "mimetype": "text/x-python",
   "name": "python",
   "nbconvert_exporter": "python",
   "pygments_lexer": "ipython3",
   "version": "3.10.6"
  }
 },
 "nbformat": 4,
 "nbformat_minor": 5
}
